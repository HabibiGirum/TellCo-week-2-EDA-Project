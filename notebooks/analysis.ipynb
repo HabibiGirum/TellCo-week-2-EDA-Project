{
 "cells": [
  {
   "cell_type": "code",
   "execution_count": null,
   "metadata": {},
   "outputs": [],
   "source": []
  },
  {
   "cell_type": "code",
   "execution_count": 1,
   "metadata": {},
   "outputs": [],
   "source": [
    "import pandas as pd"
   ]
  },
  {
   "cell_type": "code",
   "execution_count": 2,
   "metadata": {},
   "outputs": [],
   "source": [
    "df = pd.read_csv('../Data-20241219T000653Z-001/Data/Copy of Week2_challenge_data_source(CSV).csv')"
   ]
  },
  {
   "cell_type": "code",
   "execution_count": null,
   "metadata": {},
   "outputs": [],
   "source": [
    "df.head()"
   ]
  },
  {
   "cell_type": "code",
   "execution_count": null,
   "metadata": {},
   "outputs": [],
   "source": [
    "print(\"\\nDataset Info:\")\n",
    "df.info()"
   ]
  },
  {
   "cell_type": "code",
   "execution_count": null,
   "metadata": {},
   "outputs": [],
   "source": [
    "print(\"\\nBasic statistics:\")\n",
    "df.describe()"
   ]
  },
  {
   "cell_type": "code",
   "execution_count": null,
   "metadata": {},
   "outputs": [],
   "source": [
    "# Handle missing value by replacing with column mean\n",
    "df.isnull().sum()"
   ]
  },
  {
   "cell_type": "code",
   "execution_count": null,
   "metadata": {},
   "outputs": [],
   "source": [
    "missing_percentage = (df.isnull().sum() / len(df)) * 100\n",
    "print(missing_percentage.sort_values(ascending=False))\n"
   ]
  },
  {
   "cell_type": "code",
   "execution_count": null,
   "metadata": {},
   "outputs": [],
   "source": [
    "# Step 1: Filter numeric columns\n",
    "numeric_columns = df.select_dtypes(include=['number']).columns\n",
    "\n",
    "# Step 2: Filter numeric columns with missing values\n",
    "numeric_columns_with_missing = [col for col in numeric_columns if df[col].isnull().sum() > 0]\n",
    "\n",
    "# Step 3: Replace missing values with the mean\n",
    "for col in numeric_columns_with_missing:\n",
    "    mean_value = df[col].mean()  # Calculate the mean for the column\n",
    "    df[col].fillna(mean_value, inplace=True)  # Replace missing values with the mean\n",
    "\n",
    "# Validate\n",
    "print(df.isnull().sum())  # Ensure no missing values remain in numeric columns\n"
   ]
  },
  {
   "cell_type": "code",
   "execution_count": null,
   "metadata": {},
   "outputs": [],
   "source": [
    "\n",
    "\n",
    "# Aggregating per user\n",
    "result = df.groupby('IMSI').agg(\n",
    "    number_of_xDR_sessions=('Dur. (ms)', 'size'),  # Count of sessions\n",
    "    total_session_duration=('Dur. (ms)', 'sum'),  # Sum of session durations\n",
    "    total_download=('Total DL (Bytes)', 'sum'),  # Sum of download volumes\n",
    "    total_upload=('Total UL (Bytes)', 'sum'),  # Sum of upload volumes\n",
    "    total_data_volume=('Total DL (Bytes)', lambda x: x.sum() + df.loc[x.index, 'Total UL (Bytes)'].sum())  # Total data volume\n",
    ").reset_index()\n",
    "\n",
    "# Output the result\n",
    "print(result)\n"
   ]
  },
  {
   "cell_type": "code",
   "execution_count": null,
   "metadata": {},
   "outputs": [],
   "source": [
    "# Check data types and summarize dataset\n",
    "print(df.info())  # Lists column names and data types\n",
    "print(df.describe(include='all'))  # Summarizes numerical and categorical data\n",
    "\n",
    "# Identifying missing values\n",
    "missing_values = df.isnull().sum()\n",
    "print(\"Missing Values:\\n\", missing_values)\n"
   ]
  },
  {
   "cell_type": "code",
   "execution_count": null,
   "metadata": {},
   "outputs": [],
   "source": [
    "# Basic metrics for numerical columns\n",
    "metrics = df.describe()\n",
    "print(metrics)\n"
   ]
  },
  {
   "cell_type": "code",
   "execution_count": null,
   "metadata": {},
   "outputs": [],
   "source": [
    "# Compute dispersion parameters\n",
    "dispersion = df.var(), df.std()\n",
    "print(\"Variance and Standard Deviation:\\n\", dispersion)\n"
   ]
  }
 ],
 "metadata": {
  "kernelspec": {
   "display_name": "env",
   "language": "python",
   "name": "python3"
  },
  "language_info": {
   "codemirror_mode": {
    "name": "ipython",
    "version": 3
   },
   "file_extension": ".py",
   "mimetype": "text/x-python",
   "name": "python",
   "nbconvert_exporter": "python",
   "pygments_lexer": "ipython3",
   "version": "3.10.12"
  }
 },
 "nbformat": 4,
 "nbformat_minor": 2
}
